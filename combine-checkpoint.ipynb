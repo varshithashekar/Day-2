{
 "cells": [
  {
   "cell_type": "code",
   "execution_count": null,
   "id": "355b49c7-af1d-422f-821e-3229331852e0",
   "metadata": {},
   "outputs": [],
   "source": [
    "import dearpygui.dearpygui as dpg\n",
    "import numpy as np\n",
    "\n",
    "def main():\n",
    "    dpg.create_context()\n",
    "\n",
    "    with dpg.handler_registry():\n",
    "        dpg.add_key_press_handler(dpg.mvKey_Escape, callback=lambda: dpg.stop_dearpygui())\n",
    "\n",
    "    with dpg.window(label=\"Global Diabetes Statistics\", width=1200, height=800):\n",
    "\n",
    "        years = np.arange(2000, 2021)  \n",
    "        regions = [\"USA\", \"India\", \"China\", \"Brazil\", \"Russia\"]\n",
    "        num_regions = len(regions)\n",
    "        diabetic_populations = np.random.randint(5000000, 20000000, (len(years), num_regions))  \n",
    "\n",
    "        with dpg.plot(label=\"Diabetic Population by Year and Region\", height=400, width=600):\n",
    "            dpg.add_plot_legend()\n",
    "            x_axis = dpg.add_plot_axis(dpg.mvXAxis, label=\"Years\")\n",
    "            y_axis = dpg.add_plot_axis(dpg.mvYAxis, label=\"Regions\")\n",
    "\n",
    "            for i, region in enumerate(regions):\n",
    "                dpg.add_bar_series(years.tolist(), diabetic_populations[:, i].tolist(), \n",
    "                                   label=region, tag=f\"bar_series_{i}\", parent=x_axis)\n",
    "\n",
    "\n",
    "        countries = [\"USA\", \"India\", \"China\", \"Brazil\", \"Russia\", \"Mexico\", \"Japan\", \"Germany\", \"UK\", \"France\"]\n",
    "        diabetic_population = [30000000, 8000000, 12000000, 9000000, 7000000, 6000000, 5000000, 4000000, 3500000, 3000000]\n",
    "        scatter_x = np.linspace(0, len(countries) - 1, len(countries))\n",
    "        scatter_y = np.array(diabetic_population) + np.random.normal(0, 500000, len(countries))\n",
    "\n",
    "\n",
    "        with dpg.plot(label=\"Diabetes Scatter Plot\", height=400, width=600):\n",
    "            dpg.add_plot_legend()\n",
    "            x_axis = dpg.add_plot_axis(dpg.mvXAxis, label=\"Country Index\")\n",
    "            y_axis = dpg.add_plot_axis(dpg.mvYAxis, label=\"Diabetic Population\")\n",
    "\n",
    "\n",
    "            dpg.add_scatter_series(scatter_x.tolist(), scatter_y.tolist(), label=\"Population Data\", tag=\"scatter_series\", parent=y_axis)\n",
    "\n",
    "    dpg.create_viewport(title='Diabetes Global Statistics', width=1200, height=800)\n",
    "    dpg.setup_dearpygui()\n",
    "    dpg.show_viewport()\n",
    "    dpg.start_dearpygui()\n",
    "    dpg.destroy_context()\n",
    "\n",
    "if __name__ == \"__main__\":\n",
    "    main()\n"
   ]
  }
 ],
 "metadata": {
  "kernelspec": {
   "display_name": "Python 3 (ipykernel)",
   "language": "python",
   "name": "python3"
  },
  "language_info": {
   "codemirror_mode": {
    "name": "ipython",
    "version": 3
   },
   "file_extension": ".py",
   "mimetype": "text/x-python",
   "name": "python",
   "nbconvert_exporter": "python",
   "pygments_lexer": "ipython3",
   "version": "3.11.7"
  }
 },
 "nbformat": 4,
 "nbformat_minor": 5
}
