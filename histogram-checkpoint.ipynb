{
 "cells": [
  {
   "cell_type": "code",
   "execution_count": null,
   "id": "81f48897-ec3b-45fb-84c5-0483ddfb1c6f",
   "metadata": {},
   "outputs": [],
   "source": [
    "import dearpygui.dearpygui as dpg\n",
    "import numpy as np\n",
    "\n",
    "def main():\n",
    "    dpg.create_context()\n",
    "\n",
    "    with dpg.handler_registry():\n",
    "        dpg.add_key_press_handler(dpg.mvKey_Escape, callback=lambda: dpg.stop_dearpygui())\n",
    "\n",
    "    with dpg.window(label=\"Diabetic Population by Region and Year\", width=1200, height=800):\n",
    "\n",
    "        years = np.arange(2000, 2021)  \n",
    "        regions = [\"USA\", \"India\", \"China\", \"Brazil\", \"Russia\"]\n",
    "        num_regions = len(regions)\n",
    "        diabetic_populations = np.random.randint(5000000, 20000000, (len(years), num_regions))\n",
    "\n",
    "\n",
    "        with dpg.plot(label=\"Diabetic Population by Year and Region\", height=500, width=900):\n",
    "            dpg.add_plot_legend()\n",
    "            x_axis = dpg.add_plot_axis(dpg.mvXAxis, label=\"Years\")\n",
    "            y_axis = dpg.add_plot_axis(dpg.mvYAxis, label=\"Regions\")\n",
    "\n",
    "\n",
    "            for i, region in enumerate(regions):\n",
    "                dpg.add_bar_series(years.tolist(), diabetic_populations[:, i].tolist(), \n",
    "                                   label=region, tag=f\"bar_series_{i}\", parent=y_axis)\n",
    "\n",
    "    dpg.create_viewport(title='Diabetic Population by Region and Year Histogram', width=1200, height=800)\n",
    "    dpg.setup_dearpygui()\n",
    "    dpg.show_viewport()\n",
    "    dpg.start_dearpygui()\n",
    "    dpg.destroy_context()\n",
    "\n",
    "if __name__ == \"__main__\":\n",
    "    main()\n"
   ]
  }
 ],
 "metadata": {
  "kernelspec": {
   "display_name": "Python 3 (ipykernel)",
   "language": "python",
   "name": "python3"
  },
  "language_info": {
   "name": ""
  }
 },
 "nbformat": 4,
 "nbformat_minor": 5
}
